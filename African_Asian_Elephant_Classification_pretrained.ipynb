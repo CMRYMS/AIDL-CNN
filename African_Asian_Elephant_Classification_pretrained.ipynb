{
  "cells": [
    {
      "cell_type": "code",
      "execution_count": null,
      "metadata": {
        "id": "XwS3JKt-U1CE",
        "colab": {
          "base_uri": "https://localhost:8080/"
        },
        "outputId": "dfb67b85-81f1-4153-b919-c15a07a100f9"
      },
      "outputs": [
        {
          "output_type": "stream",
          "name": "stdout",
          "text": [
            "Mounted at /content/drive\n"
          ]
        }
      ],
      "source": [
        "#My dataset is available in googledrive; so I am accessing my drive from colab\n",
        "from google.colab import drive\n",
        "drive.mount('/content/drive', force_remount=True)\n",
        "#Once this is executed, you will see your drive appearing on the left hand side"
      ]
    },
    {
      "cell_type": "code",
      "source": [
        "from google.colab import drive\n",
        "drive.mount('/content/drive')"
      ],
      "metadata": {
        "id": "3DnLA1PnpNr8",
        "colab": {
          "base_uri": "https://localhost:8080/",
          "height": 0
        },
        "outputId": "fac41b21-c041-4ad1-ae1b-f7fe7a49e042"
      },
      "execution_count": 3,
      "outputs": [
        {
          "output_type": "stream",
          "name": "stdout",
          "text": [
            "Drive already mounted at /content/drive; to attempt to forcibly remount, call drive.mount(\"/content/drive\", force_remount=True).\n"
          ]
        }
      ]
    },
    {
      "cell_type": "code",
      "execution_count": 4,
      "metadata": {
        "id": "SMPHESYVVnzp"
      },
      "outputs": [],
      "source": [
        "# Define paths to the dataset\n",
        "train_dir = '/content/drive/MyDrive/dataset/train'  # Update with your actual path\n",
        "test_dir = '/content/drive/MyDrive/dataset/test'    # Update with your actual path"
      ]
    },
    {
      "cell_type": "code",
      "execution_count": 5,
      "metadata": {
        "colab": {
          "base_uri": "https://localhost:8080/",
          "height": 0
        },
        "id": "wwfZiLtU6Ruq",
        "outputId": "73806503-3267-4db9-895f-5a2a5b88248c"
      },
      "outputs": [
        {
          "output_type": "stream",
          "name": "stdout",
          "text": [
            "420\n",
            "420\n",
            "97\n",
            "91\n"
          ]
        }
      ],
      "source": [
        "import os\n",
        "print(len(os.listdir('/content/drive/MyDrive/dataset/train/African')))\n",
        "print(len(os.listdir('/content/drive/MyDrive/dataset/train/Asian')))\n",
        "print(len(os.listdir('/content/drive/MyDrive/dataset/test/African')))\n",
        "print(len(os.listdir('/content/drive/MyDrive/dataset/test/Asian')))"
      ]
    },
    {
      "cell_type": "code",
      "execution_count": 6,
      "metadata": {
        "colab": {
          "base_uri": "https://localhost:8080/",
          "height": 0
        },
        "id": "kf8li3JNUJR1",
        "outputId": "80399480-772d-4ccc-b0cd-69fcd518d855"
      },
      "outputs": [
        {
          "output_type": "stream",
          "name": "stdout",
          "text": [
            "Found 672 images belonging to 2 classes.\n",
            "Found 168 images belonging to 2 classes.\n"
          ]
        }
      ],
      "source": [
        "import tensorflow as tf\n",
        "from tensorflow.keras.preprocessing.image import ImageDataGenerator\n",
        "\n",
        "# Create ImageDataGenerator for training set\n",
        "train_datagen = ImageDataGenerator(\n",
        "    rescale=1./255,\n",
        "    validation_split=0.2  # Split 20% of the images for validation\n",
        ")\n",
        "\n",
        "# Load and prepare training data\n",
        "train_data = train_datagen.flow_from_directory(\n",
        "    train_dir,\n",
        "    target_size=(256,256),\n",
        "    batch_size=32,\n",
        "    class_mode='binary',  # 'binary' for binary classification (cats vs. dogs)\n",
        "    subset='training'  # Specify 'training' for the training set\n",
        ")\n",
        "\n",
        "# Create ImageDataGenerator for validation set\n",
        "validation_datagen = ImageDataGenerator(\n",
        "    rescale=1./255,\n",
        "    validation_split=0.2  # Note: Using the same validation split as in the training set\n",
        ")\n",
        "\n",
        "# Load and prepare validation data\n",
        "validation_data = validation_datagen.flow_from_directory(\n",
        "    train_dir,\n",
        "    target_size=(256,256),\n",
        "    batch_size=32,\n",
        "    class_mode='binary',\n",
        "    subset='validation'  # Specify 'validation' for the validation set\n",
        ")"
      ]
    },
    {
      "cell_type": "code",
      "source": [
        "from tensorflow import keras\n",
        "from keras import Sequential\n",
        "from keras.layers import Dense,Conv2D,MaxPooling2D,Flatten\n",
        "\n",
        "resnet_model = Sequential()    #ResNet50 is a pre-trained model\n",
        "pretrained_model = tf.keras.applications.ResNet50(include_top = False, #because i have my own image of a diff dimension\n",
        "                                                input_shape = (256,256,3),\n",
        "                                                pooling = 'max', classes = 2,\n",
        "                                                weights = 'imagenet')\n",
        "for layer in pretrained_model.layers:\n",
        "    layer.trainable = False  #all layers in the Resnet50 is not trainable; keep those weights; I am going to add my own i/p and other layers\n",
        "\n",
        "resnet_model.add(pretrained_model)\n",
        "resnet_model.add(Flatten())\n",
        "resnet_model.add(Dense(512, activation = 'relu'))\n",
        "resnet_model.add(Dense(1, activation = 'sigmoid'))"
      ],
      "metadata": {
        "id": "ja7Bv3UkSlKz",
        "colab": {
          "base_uri": "https://localhost:8080/",
          "height": 0
        },
        "outputId": "0d273ad7-9e5d-4169-9b81-c83a42afce57"
      },
      "execution_count": 7,
      "outputs": [
        {
          "output_type": "stream",
          "name": "stdout",
          "text": [
            "Downloading data from https://storage.googleapis.com/tensorflow/keras-applications/resnet/resnet50_weights_tf_dim_ordering_tf_kernels_notop.h5\n",
            "94765736/94765736 [==============================] - 1s 0us/step\n"
          ]
        }
      ]
    },
    {
      "cell_type": "code",
      "source": [
        "resnet_model.summary()"
      ],
      "metadata": {
        "colab": {
          "base_uri": "https://localhost:8080/",
          "height": 0
        },
        "id": "dDZwlEw9VSVh",
        "outputId": "00b2b923-90e6-4237-8694-29c7d59a0feb"
      },
      "execution_count": 8,
      "outputs": [
        {
          "output_type": "stream",
          "name": "stdout",
          "text": [
            "Model: \"sequential\"\n",
            "_________________________________________________________________\n",
            " Layer (type)                Output Shape              Param #   \n",
            "=================================================================\n",
            " resnet50 (Functional)       (None, 2048)              23587712  \n",
            "                                                                 \n",
            " flatten (Flatten)           (None, 2048)              0         \n",
            "                                                                 \n",
            " dense (Dense)               (None, 512)               1049088   \n",
            "                                                                 \n",
            " dense_1 (Dense)             (None, 1)                 513       \n",
            "                                                                 \n",
            "=================================================================\n",
            "Total params: 24637313 (93.98 MB)\n",
            "Trainable params: 1049601 (4.00 MB)\n",
            "Non-trainable params: 23587712 (89.98 MB)\n",
            "_________________________________________________________________\n"
          ]
        }
      ]
    },
    {
      "cell_type": "code",
      "execution_count": 9,
      "metadata": {
        "id": "SeBjyn0iWXgY"
      },
      "outputs": [],
      "source": [
        "from keras.optimizers import Adam\n",
        "resnet_model.compile(optimizer=Adam(learning_rate=0.001),loss='binary_crossentropy',metrics=['accuracy']) #binary_crossentropy - binary classification"
      ]
    },
    {
      "cell_type": "code",
      "execution_count": 10,
      "metadata": {
        "colab": {
          "base_uri": "https://localhost:8080/",
          "height": 0
        },
        "id": "lGbY2VpIWbTt",
        "outputId": "59dba4ab-9e54-4646-efa0-9146840d76fb"
      },
      "outputs": [
        {
          "output_type": "stream",
          "name": "stdout",
          "text": [
            "Epoch 1/3\n",
            "21/21 [==============================] - 229s 11s/step - loss: 3.2364 - accuracy: 0.5030 - val_loss: 1.3101 - val_accuracy: 0.5000\n",
            "Epoch 2/3\n",
            "21/21 [==============================] - 218s 11s/step - loss: 0.8243 - accuracy: 0.5179 - val_loss: 0.7299 - val_accuracy: 0.4881\n",
            "Epoch 3/3\n",
            "21/21 [==============================] - 210s 10s/step - loss: 0.7157 - accuracy: 0.5580 - val_loss: 0.7063 - val_accuracy: 0.5238\n"
          ]
        }
      ],
      "source": [
        "history = resnet_model.fit(train_data, epochs=3, validation_data=validation_data)"
      ]
    },
    {
      "cell_type": "code",
      "execution_count": 11,
      "metadata": {
        "id": "g21dMlSOWKas",
        "colab": {
          "base_uri": "https://localhost:8080/",
          "height": 430
        },
        "outputId": "588bc77f-0a96-460b-a363-e25034299d0b"
      },
      "outputs": [
        {
          "output_type": "display_data",
          "data": {
            "text/plain": [
              "<Figure size 640x480 with 1 Axes>"
            ],
            "image/png": "[encoded data removed]"
          },
          "metadata": {}
        }
      ],
      "source": [
        "import matplotlib.pyplot as plt\n",
        "\n",
        "plt.plot(history.history['accuracy'],color='red',label='train')\n",
        "plt.plot(history.history['val_accuracy'],color='blue',label='validation')\n",
        "plt.legend()\n",
        "plt.show()"
      ]
    },
    {
      "cell_type": "code",
      "execution_count": 12,
      "metadata": {
        "id": "FYZ0VJp4esXl",
        "colab": {
          "base_uri": "https://localhost:8080/",
          "height": 430
        },
        "outputId": "fa614912-6cb9-474d-ced6-a92a412fa15b"
      },
      "outputs": [
        {
          "output_type": "display_data",
          "data": {
            "text/plain": [
              "<Figure size 640x480 with 1 Axes>"
            ],
            "image/png": "[encoded data removed]"
          },
          "metadata": {}
        }
      ],
      "source": [
        "plt.plot(history.history['loss'],color='red',label='train')\n",
        "plt.plot(history.history['val_loss'],color='blue',label='validation')\n",
        "plt.legend()\n",
        "plt.show()"
      ]
    },
    {
      "cell_type": "code",
      "execution_count": 13,
      "metadata": {
        "id": "tQj_RyrZWBEt",
        "colab": {
          "base_uri": "https://localhost:8080/",
          "height": 0
        },
        "outputId": "cc809235-da97-4e16-fe31-c3295b5366df"
      },
      "outputs": [
        {
          "output_type": "stream",
          "name": "stdout",
          "text": [
            "Found 188 images belonging to 2 classes.\n"
          ]
        }
      ],
      "source": [
        "test_datagen = ImageDataGenerator(rescale=1./255)\n",
        "test_data = test_datagen.flow_from_directory(\n",
        "    test_dir,\n",
        "    target_size=(256,256),\n",
        "    batch_size=32,\n",
        "    class_mode='binary'\n",
        ")"
      ]
    },
    {
      "cell_type": "code",
      "execution_count": 14,
      "metadata": {
        "id": "glicW8_5vTqd",
        "colab": {
          "base_uri": "https://localhost:8080/",
          "height": 0
        },
        "outputId": "f7be3c8a-932b-49f5-8b2e-08c21481c379"
      },
      "outputs": [
        {
          "output_type": "stream",
          "name": "stdout",
          "text": [
            "6/6 [==============================] - 62s 10s/step\n",
            "[[0.5196351 ]\n",
            " [0.6246938 ]\n",
            " [0.5129676 ]\n",
            " [0.4054998 ]\n",
            " [0.49850994]\n",
            " [0.61770016]\n",
            " [0.45530412]\n",
            " [0.5245716 ]\n",
            " [0.42068726]\n",
            " [0.6172059 ]\n",
            " [0.55270267]\n",
            " [0.4402386 ]\n",
            " [0.561027  ]\n",
            " [0.6446955 ]\n",
            " [0.6413131 ]\n",
            " [0.48799998]\n",
            " [0.4113374 ]\n",
            " [0.3665191 ]\n",
            " [0.47068927]\n",
            " [0.4675407 ]\n",
            " [0.61227447]\n",
            " [0.50661606]\n",
            " [0.42824095]\n",
            " [0.51363206]\n",
            " [0.5822538 ]\n",
            " [0.5127487 ]\n",
            " [0.47015482]\n",
            " [0.58436924]\n",
            " [0.4360815 ]\n",
            " [0.5180685 ]\n",
            " [0.6172672 ]\n",
            " [0.5016351 ]\n",
            " [0.5851947 ]\n",
            " [0.50775176]\n",
            " [0.4735275 ]\n",
            " [0.588496  ]\n",
            " [0.44088602]\n",
            " [0.44819298]\n",
            " [0.61410254]\n",
            " [0.45190683]\n",
            " [0.549593  ]\n",
            " [0.49383563]\n",
            " [0.4633241 ]\n",
            " [0.5709696 ]\n",
            " [0.4122844 ]\n",
            " [0.5491798 ]\n",
            " [0.4799773 ]\n",
            " [0.47726914]\n",
            " [0.50890607]\n",
            " [0.5331798 ]\n",
            " [0.5564142 ]\n",
            " [0.46391192]\n",
            " [0.5726661 ]\n",
            " [0.553429  ]\n",
            " [0.55982214]\n",
            " [0.5826955 ]\n",
            " [0.57559884]\n",
            " [0.5714231 ]\n",
            " [0.4306928 ]\n",
            " [0.44263455]\n",
            " [0.54946786]\n",
            " [0.5071083 ]\n",
            " [0.48648122]\n",
            " [0.5322987 ]\n",
            " [0.4640621 ]\n",
            " [0.5210448 ]\n",
            " [0.5670632 ]\n",
            " [0.61359054]\n",
            " [0.47993785]\n",
            " [0.58369076]\n",
            " [0.55379856]\n",
            " [0.5535798 ]\n",
            " [0.50269824]\n",
            " [0.4775598 ]\n",
            " [0.44025257]\n",
            " [0.5165885 ]\n",
            " [0.36509678]\n",
            " [0.37017813]\n",
            " [0.5799127 ]\n",
            " [0.6112664 ]\n",
            " [0.5504282 ]\n",
            " [0.561027  ]\n",
            " [0.55528736]\n",
            " [0.485234  ]\n",
            " [0.59670997]\n",
            " [0.6753714 ]\n",
            " [0.60619706]\n",
            " [0.5779767 ]\n",
            " [0.48993897]\n",
            " [0.47284815]\n",
            " [0.57027483]\n",
            " [0.67748433]\n",
            " [0.5729456 ]\n",
            " [0.6787071 ]\n",
            " [0.55923665]\n",
            " [0.49406594]\n",
            " [0.5435485 ]\n",
            " [0.71288544]\n",
            " [0.534356  ]\n",
            " [0.41763824]\n",
            " [0.4660876 ]\n",
            " [0.52920306]\n",
            " [0.62158996]\n",
            " [0.5061906 ]\n",
            " [0.5572073 ]\n",
            " [0.4815277 ]\n",
            " [0.52167785]\n",
            " [0.51317084]\n",
            " [0.6221438 ]\n",
            " [0.44924378]\n",
            " [0.6894876 ]\n",
            " [0.48426288]\n",
            " [0.42862967]\n",
            " [0.45244592]\n",
            " [0.55587554]\n",
            " [0.5446568 ]\n",
            " [0.533215  ]\n",
            " [0.5437525 ]\n",
            " [0.48836088]\n",
            " [0.60377777]\n",
            " [0.4231544 ]\n",
            " [0.5556273 ]\n",
            " [0.5154795 ]\n",
            " [0.5100425 ]\n",
            " [0.47724032]\n",
            " [0.5033665 ]\n",
            " [0.38251227]\n",
            " [0.51515496]\n",
            " [0.5230556 ]\n",
            " [0.5798579 ]\n",
            " [0.3540415 ]\n",
            " [0.47869354]\n",
            " [0.48356062]\n",
            " [0.468024  ]\n",
            " [0.569115  ]\n",
            " [0.6529566 ]\n",
            " [0.54766625]\n",
            " [0.4845705 ]\n",
            " [0.4929004 ]\n",
            " [0.41285574]\n",
            " [0.52897465]\n",
            " [0.5464437 ]\n",
            " [0.55519724]\n",
            " [0.5295876 ]\n",
            " [0.52053887]\n",
            " [0.5180685 ]\n",
            " [0.61229026]\n",
            " [0.43433246]\n",
            " [0.53618824]\n",
            " [0.6006764 ]\n",
            " [0.5000193 ]\n",
            " [0.4825018 ]\n",
            " [0.50384814]\n",
            " [0.5926094 ]\n",
            " [0.448418  ]\n",
            " [0.5876419 ]\n",
            " [0.453221  ]\n",
            " [0.5071865 ]\n",
            " [0.49798617]\n",
            " [0.36710146]\n",
            " [0.5401942 ]\n",
            " [0.6467369 ]\n",
            " [0.47725564]\n",
            " [0.4895202 ]\n",
            " [0.5632959 ]\n",
            " [0.75790596]\n",
            " [0.55596364]\n",
            " [0.6242704 ]\n",
            " [0.4926472 ]\n",
            " [0.53455555]\n",
            " [0.5441479 ]\n",
            " [0.5429543 ]\n",
            " [0.409419  ]\n",
            " [0.5030865 ]\n",
            " [0.50915265]\n",
            " [0.5643418 ]\n",
            " [0.542274  ]\n",
            " [0.56208926]\n",
            " [0.7005912 ]\n",
            " [0.58929276]\n",
            " [0.59119415]\n",
            " [0.5934601 ]\n",
            " [0.6918268 ]\n",
            " [0.5341324 ]\n",
            " [0.5684277 ]\n",
            " [0.43105736]\n",
            " [0.6451073 ]\n",
            " [0.63943577]]\n"
          ]
        }
      ],
      "source": [
        "#predict the test data\n",
        "predictions = resnet_model.predict(test_data)\n",
        "print(predictions)"
      ]
    },
    {
      "cell_type": "code",
      "execution_count": 15,
      "metadata": {
        "id": "r7XjnjcNyMbv",
        "colab": {
          "base_uri": "https://localhost:8080/",
          "height": 0
        },
        "outputId": "c0a82982-3287-4efd-de8f-861ecb26c094"
      },
      "outputs": [
        {
          "output_type": "execute_result",
          "data": {
            "text/plain": [
              "188"
            ]
          },
          "metadata": {},
          "execution_count": 15
        }
      ],
      "source": [
        "len(predictions)"
      ]
    },
    {
      "cell_type": "code",
      "execution_count": 16,
      "metadata": {
        "id": "oqqBXpuhyd6x",
        "colab": {
          "base_uri": "https://localhost:8080/",
          "height": 0
        },
        "outputId": "6ab94d0a-9480-468f-d7bf-bc43fe87b971"
      },
      "outputs": [
        {
          "output_type": "stream",
          "name": "stdout",
          "text": [
            "Confusion Matrix:\n",
            "[[36 61]\n",
            " [29 62]]\n",
            "Classification Report:\n",
            "              precision    recall  f1-score   support\n",
            "\n",
            "           0       0.55      0.37      0.44        97\n",
            "           1       0.50      0.68      0.58        91\n",
            "\n",
            "    accuracy                           0.52       188\n",
            "   macro avg       0.53      0.53      0.51       188\n",
            "weighted avg       0.53      0.52      0.51       188\n",
            "\n"
          ]
        }
      ],
      "source": [
        "from sklearn.metrics import confusion_matrix, classification_report\n",
        "\n",
        "# Assuming you have ground truth labels (true_labels) and predicted labels (predictions)\n",
        "true_labels = test_data.classes\n",
        "predicted_labels = (predictions > 0.5).astype(int)  # Adjust the threshold as needed\n",
        "\n",
        "# Calculate confusion matrix\n",
        "cm = confusion_matrix(true_labels, predicted_labels)\n",
        "\n",
        "# Print confusion matrix\n",
        "print(\"Confusion Matrix:\")\n",
        "print(cm)\n",
        "\n",
        "# Print classification report\n",
        "print(\"Classification Report:\")\n",
        "print(classification_report(true_labels, predicted_labels))"
      ]
    }
  ],
  "metadata": {
    "accelerator": "TPU",
    "colab": {
      "provenance": []
    },
    "kernelspec": {
      "display_name": "Python 3",
      "name": "python3"
    },
    "language_info": {
      "name": "python"
    }
  },
  "nbformat": 4,
  "nbformat_minor": 0
}