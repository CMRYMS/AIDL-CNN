{
  "cells": [
    {
      "cell_type": "code",
      "execution_count": null,
      "metadata": {
        "colab": {
          "base_uri": "https://localhost:8080/"
        },
        "id": "XwS3JKt-U1CE",
        "outputId": "1612be14-1976-4ae8-b0c4-9399fd17f48b"
      },
      "outputs": [
        {
          "output_type": "stream",
          "name": "stdout",
          "text": [
            "Mounted at /content/drive\n"
          ]
        }
      ],
      "source": [
        "#My dataset is available in googledrive; so I am accessing my drive from colab\n",
        "from google.colab import drive\n",
        "drive.mount('/content/drive', force_remount=True)\n",
        "#Once this is executed, you will see your drive appearing on the left hand side"
      ]
    },
    {
      "cell_type": "code",
      "source": [
        "from google.colab import drive\n",
        "drive.mount('/content/drive')"
      ],
      "metadata": {
        "id": "WgOUC8y6FcZS",
        "colab": {
          "base_uri": "https://localhost:8080/"
        },
        "outputId": "05e46c0c-962d-4e3e-caee-b841a82b226a"
      },
      "execution_count": null,
      "outputs": [
        {
          "output_type": "stream",
          "name": "stdout",
          "text": [
            "Drive already mounted at /content/drive; to attempt to forcibly remount, call drive.mount(\"/content/drive\", force_remount=True).\n"
          ]
        }
      ]
    },
    {
      "cell_type": "code",
      "execution_count": null,
      "metadata": {
        "id": "SMPHESYVVnzp"
      },
      "outputs": [],
      "source": [
        "# Define paths to the dataset\n",
        "train_dir = '/content/drive/MyDrive/dataset/train'  # Update with your actual path\n",
        "test_dir = '/content/drive/MyDrive/dataset/test'"
      ]
    },
    {
      "cell_type": "code",
      "execution_count": null,
      "metadata": {
        "colab": {
          "base_uri": "https://localhost:8080/"
        },
        "id": "wwfZiLtU6Ruq",
        "outputId": "cc64282b-af49-44cb-a303-90f652502c3b"
      },
      "outputs": [
        {
          "output_type": "stream",
          "name": "stdout",
          "text": [
            "420\n",
            "420\n",
            "97\n",
            "91\n"
          ]
        }
      ],
      "source": [
        "import os\n",
        "print(len(os.listdir('/content/drive/MyDrive/dataset/train/African')))\n",
        "print(len(os.listdir('/content/drive/MyDrive/dataset/train/Asian')))\n",
        "print(len(os.listdir('/content/drive/MyDrive/dataset/test/African')))\n",
        "print(len(os.listdir('/content/drive/MyDrive/dataset/test/Asian')))"
      ]
    },
    {
      "cell_type": "code",
      "execution_count": null,
      "metadata": {
        "colab": {
          "base_uri": "https://localhost:8080/"
        },
        "id": "kf8li3JNUJR1",
        "outputId": "7554f910-24ce-49a0-ca77-8f4441414666"
      },
      "outputs": [
        {
          "output_type": "stream",
          "name": "stdout",
          "text": [
            "Found 672 images belonging to 2 classes.\n",
            "Found 168 images belonging to 2 classes.\n"
          ]
        }
      ],
      "source": [
        "import tensorflow as tf\n",
        "from tensorflow.keras.preprocessing.image import ImageDataGenerator\n",
        "\n",
        "# Create ImageDataGenerator for training set\n",
        "train_datagen = ImageDataGenerator(\n",
        "    rescale=1./255,\n",
        "    validation_split=0.2  # Split 20% of the images for validation\n",
        ")\n",
        "\n",
        "# Load and prepare training data\n",
        "train_data = train_datagen.flow_from_directory(\n",
        "    train_dir,\n",
        "    target_size=(256,256),\n",
        "    batch_size=32,\n",
        "    class_mode='binary',  # 'binary' for binary classification (cats vs. dogs)\n",
        "    subset='training'  # Specify 'training' for the training set\n",
        ")\n",
        "\n",
        "# Create ImageDataGenerator for validation set\n",
        "validation_datagen = ImageDataGenerator(\n",
        "    rescale=1./255,\n",
        "    validation_split=0.2  # Note: Using the same validation split as in the training set\n",
        ")\n",
        "\n",
        "# Load and prepare validation data\n",
        "validation_data = validation_datagen.flow_from_directory(\n",
        "    train_dir,\n",
        "    target_size=(256,256),\n",
        "    batch_size=32,\n",
        "    class_mode='binary',\n",
        "    subset='validation'  # Specify 'validation' for the validation set\n",
        ")"
      ]
    },
    {
      "cell_type": "code",
      "execution_count": null,
      "metadata": {
        "id": "wGp6oIfQWMFh"
      },
      "outputs": [],
      "source": [
        "from tensorflow import keras\n",
        "from keras import Sequential\n",
        "from keras.layers import Dense,Conv2D,MaxPooling2D,Flatten,BatchNormalization,UpSampling2D, Dropout"
      ]
    },
    {
      "cell_type": "code",
      "execution_count": null,
      "metadata": {
        "id": "6liLEEzLWNB5"
      },
      "outputs": [],
      "source": [
        "# create CNN model\n",
        "\n",
        "model = Sequential()\n",
        "\n",
        "model.add(Conv2D(32,kernel_size=(3,3),padding='valid',activation='relu',input_shape=(256,256,3)))  # 32 filters\n",
        "#model.add(BatchNormalization())  # added to reduce overfitting\n",
        "model.add(MaxPooling2D(pool_size=(2,2),strides=2,padding='valid'))\n",
        "\n",
        "model.add(Conv2D(64,kernel_size=(3,3),padding='valid',activation='relu'))\n",
        "#model.add(BatchNormalization())  # added to reduce overfitting\n",
        "model.add(MaxPooling2D(pool_size=(2,2),strides=2,padding='valid'))\n",
        "\n",
        "model.add(Conv2D(128,kernel_size=(3,3),padding='valid',activation='relu'))\n",
        "#model.add(BatchNormalization())  # added to reduce overfitting\n",
        "model.add(MaxPooling2D(pool_size=(2,2),strides=2,padding='valid'))\n",
        "\n",
        "model.add(Flatten())\n",
        "\n",
        "model.add(Dense(128,activation='relu')) #feature reduction\n",
        "#model.add(Dropout(0.1))  # added to reduce overfitting\n",
        "model.add(Dense(64,activation='relu'))\n",
        "#model.add(Dropout(0.1))  # added to reduce overfitting\n",
        "model.add(Dense(1,activation='sigmoid'))  #output layer"
      ]
    },
    {
      "cell_type": "code",
      "execution_count": null,
      "metadata": {
        "id": "SeBjyn0iWXgY"
      },
      "outputs": [],
      "source": [
        "from keras.optimizers import Adam\n",
        "model.compile(optimizer=Adam(learning_rate=0.001),loss='binary_crossentropy',metrics=['accuracy']) #binary_crossentropy - binary classification"
      ]
    },
    {
      "cell_type": "code",
      "execution_count": null,
      "metadata": {
        "colab": {
          "base_uri": "https://localhost:8080/"
        },
        "id": "lGbY2VpIWbTt",
        "outputId": "e5e7acc0-ce64-4c4c-aecd-672f4dabf364"
      },
      "outputs": [
        {
          "output_type": "stream",
          "name": "stdout",
          "text": [
            "Epoch 1/30\n",
            "21/21 [==============================] - 182s 8s/step - loss: 0.7265 - accuracy: 0.5104 - val_loss: 0.6930 - val_accuracy: 0.5000\n",
            "Epoch 2/30\n",
            "21/21 [==============================] - 114s 5s/step - loss: 0.6945 - accuracy: 0.5357 - val_loss: 0.6951 - val_accuracy: 0.5000\n",
            "Epoch 3/30\n",
            "21/21 [==============================] - 118s 5s/step - loss: 0.6933 - accuracy: 0.5015 - val_loss: 0.6925 - val_accuracy: 0.5238\n",
            "Epoch 4/30\n",
            "21/21 [==============================] - 115s 5s/step - loss: 0.6752 - accuracy: 0.6057 - val_loss: 0.7144 - val_accuracy: 0.5476\n",
            "Epoch 5/30\n",
            "21/21 [==============================] - 114s 5s/step - loss: 0.6391 - accuracy: 0.6384 - val_loss: 0.7191 - val_accuracy: 0.5833\n",
            "Epoch 6/30\n",
            "21/21 [==============================] - 114s 5s/step - loss: 0.5791 - accuracy: 0.6860 - val_loss: 0.7395 - val_accuracy: 0.5119\n",
            "Epoch 7/30\n",
            "21/21 [==============================] - 113s 5s/step - loss: 0.4918 - accuracy: 0.7530 - val_loss: 0.9033 - val_accuracy: 0.4940\n",
            "Epoch 8/30\n",
            "21/21 [==============================] - 115s 5s/step - loss: 0.3851 - accuracy: 0.8140 - val_loss: 0.9302 - val_accuracy: 0.4940\n",
            "Epoch 9/30\n",
            "21/21 [==============================] - 118s 6s/step - loss: 0.2823 - accuracy: 0.8899 - val_loss: 1.1821 - val_accuracy: 0.4881\n",
            "Epoch 10/30\n",
            "21/21 [==============================] - 117s 5s/step - loss: 0.2084 - accuracy: 0.9315 - val_loss: 1.5764 - val_accuracy: 0.4583\n",
            "Epoch 11/30\n",
            "21/21 [==============================] - 112s 5s/step - loss: 0.1912 - accuracy: 0.9360 - val_loss: 1.4775 - val_accuracy: 0.4286\n",
            "Epoch 12/30\n",
            "21/21 [==============================] - 116s 5s/step - loss: 0.1493 - accuracy: 0.9420 - val_loss: 2.0893 - val_accuracy: 0.4524\n",
            "Epoch 13/30\n",
            "21/21 [==============================] - 111s 5s/step - loss: 0.1517 - accuracy: 0.9464 - val_loss: 1.7843 - val_accuracy: 0.4702\n",
            "Epoch 14/30\n",
            "21/21 [==============================] - 109s 5s/step - loss: 0.1157 - accuracy: 0.9568 - val_loss: 1.9165 - val_accuracy: 0.4702\n",
            "Epoch 15/30\n",
            "21/21 [==============================] - 115s 5s/step - loss: 0.1000 - accuracy: 0.9554 - val_loss: 2.4448 - val_accuracy: 0.4702\n",
            "Epoch 16/30\n",
            "21/21 [==============================] - 112s 5s/step - loss: 0.0803 - accuracy: 0.9539 - val_loss: 2.0619 - val_accuracy: 0.4643\n",
            "Epoch 17/30\n",
            "21/21 [==============================] - 119s 6s/step - loss: 0.0780 - accuracy: 0.9509 - val_loss: 2.5292 - val_accuracy: 0.4762\n",
            "Epoch 18/30\n",
            "21/21 [==============================] - 114s 5s/step - loss: 0.0811 - accuracy: 0.9539 - val_loss: 1.8950 - val_accuracy: 0.4464\n",
            "Epoch 19/30\n",
            "21/21 [==============================] - 128s 6s/step - loss: 0.0784 - accuracy: 0.9524 - val_loss: 2.3280 - val_accuracy: 0.4583\n",
            "Epoch 20/30\n",
            "21/21 [==============================] - 124s 6s/step - loss: 0.0786 - accuracy: 0.9554 - val_loss: 2.3156 - val_accuracy: 0.4464\n",
            "Epoch 21/30\n",
            "21/21 [==============================] - 127s 6s/step - loss: 0.0746 - accuracy: 0.9524 - val_loss: 2.2854 - val_accuracy: 0.4524\n",
            "Epoch 22/30\n",
            "21/21 [==============================] - 125s 6s/step - loss: 0.0686 - accuracy: 0.9524 - val_loss: 2.5762 - val_accuracy: 0.4643\n",
            "Epoch 23/30\n",
            "21/21 [==============================] - 125s 6s/step - loss: 0.0695 - accuracy: 0.9554 - val_loss: 2.2986 - val_accuracy: 0.4821\n",
            "Epoch 24/30\n",
            "21/21 [==============================] - 120s 6s/step - loss: 0.0630 - accuracy: 0.9539 - val_loss: 2.8228 - val_accuracy: 0.4762\n",
            "Epoch 25/30\n",
            "21/21 [==============================] - 119s 6s/step - loss: 0.0679 - accuracy: 0.9539 - val_loss: 2.4768 - val_accuracy: 0.4524\n",
            "Epoch 26/30\n",
            "21/21 [==============================] - 120s 6s/step - loss: 0.0609 - accuracy: 0.9539 - val_loss: 2.5843 - val_accuracy: 0.4643\n",
            "Epoch 27/30\n",
            "21/21 [==============================] - 122s 6s/step - loss: 0.0595 - accuracy: 0.9479 - val_loss: 2.8213 - val_accuracy: 0.4762\n",
            "Epoch 28/30\n",
            "21/21 [==============================] - 119s 6s/step - loss: 0.0583 - accuracy: 0.9539 - val_loss: 2.6201 - val_accuracy: 0.4643\n",
            "Epoch 29/30\n",
            "21/21 [==============================] - 133s 6s/step - loss: 0.0574 - accuracy: 0.9583 - val_loss: 2.8460 - val_accuracy: 0.4524\n",
            "Epoch 30/30\n",
            "21/21 [==============================] - 120s 6s/step - loss: 0.0559 - accuracy: 0.9598 - val_loss: 2.7113 - val_accuracy: 0.4405\n"
          ]
        }
      ],
      "source": [
        "history = model.fit(train_data, epochs=30, validation_data=validation_data)"
      ]
    },
    {
      "cell_type": "code",
      "execution_count": null,
      "metadata": {
        "id": "g21dMlSOWKas",
        "colab": {
          "base_uri": "https://localhost:8080/",
          "height": 430
        },
        "outputId": "29febdc4-46ac-469e-e92b-341f01721c45"
      },
      "outputs": [
        {
          "output_type": "display_data",
          "data": {
            "text/plain": [
              "<Figure size 640x480 with 1 Axes>"
            ],
            "image/png": "[encoded data removed]"
          },
          "metadata": {}
        }
      ],
      "source": [
        "import matplotlib.pyplot as plt\n",
        "\n",
        "plt.plot(history.history['accuracy'],color='red',label='train')\n",
        "plt.plot(history.history['val_accuracy'],color='blue',label='validation')\n",
        "plt.legend()\n",
        "plt.show()"
      ]
    },
    {
      "cell_type": "code",
      "execution_count": null,
      "metadata": {
        "id": "FYZ0VJp4esXl",
        "colab": {
          "base_uri": "https://localhost:8080/",
          "height": 430
        },
        "outputId": "8bda64d6-6919-423e-ae84-618d314a890c"
      },
      "outputs": [
        {
          "output_type": "display_data",
          "data": {
            "text/plain": [
              "<Figure size 640x480 with 1 Axes>"
            ],
            "image/png": "[encoded data removed]"
          },
          "metadata": {}
        }
      ],
      "source": [
        "plt.plot(history.history['loss'],color='red',label='train')\n",
        "plt.plot(history.history['val_loss'],color='blue',label='validation')\n",
        "plt.legend()\n",
        "plt.show()"
      ]
    },
    {
      "cell_type": "code",
      "execution_count": null,
      "metadata": {
        "id": "tQj_RyrZWBEt",
        "colab": {
          "base_uri": "https://localhost:8080/"
        },
        "outputId": "ab26f119-ddf2-4d35-c573-63c9c6ca4fc8"
      },
      "outputs": [
        {
          "output_type": "stream",
          "name": "stdout",
          "text": [
            "Found 188 images belonging to 2 classes.\n"
          ]
        }
      ],
      "source": [
        "test_datagen = ImageDataGenerator(rescale=1./255)\n",
        "test_data = test_datagen.flow_from_directory(\n",
        "    test_dir,\n",
        "    target_size=(256,256),\n",
        "    batch_size=32,\n",
        "    class_mode='binary'\n",
        ")"
      ]
    },
    {
      "cell_type": "code",
      "execution_count": null,
      "metadata": {
        "id": "glicW8_5vTqd",
        "colab": {
          "base_uri": "https://localhost:8080/"
        },
        "outputId": "fdb9955c-c070-4911-c96d-a71409690c5c"
      },
      "outputs": [
        {
          "output_type": "stream",
          "name": "stdout",
          "text": [
            "6/6 [==============================] - 95s 18s/step\n",
            "[[3.3672464e-01]\n",
            " [6.7959934e-01]\n",
            " [9.9999976e-01]\n",
            " [9.9999505e-01]\n",
            " [9.9987847e-01]\n",
            " [5.3031009e-01]\n",
            " [9.9984181e-01]\n",
            " [4.2335504e-01]\n",
            " [2.3817159e-03]\n",
            " [9.8758924e-01]\n",
            " [5.2589673e-01]\n",
            " [8.6964958e-04]\n",
            " [3.8558233e-03]\n",
            " [9.8822361e-01]\n",
            " [2.2551761e-04]\n",
            " [1.4005793e-02]\n",
            " [1.9786177e-05]\n",
            " [8.9226067e-01]\n",
            " [9.9986786e-01]\n",
            " [9.9998915e-01]\n",
            " [9.8900533e-01]\n",
            " [2.7143702e-02]\n",
            " [3.0719169e-04]\n",
            " [9.9975389e-01]\n",
            " [9.9999952e-01]\n",
            " [9.9176449e-01]\n",
            " [1.7844902e-02]\n",
            " [1.8229734e-05]\n",
            " [9.9966431e-01]\n",
            " [8.4028357e-01]\n",
            " [6.2980598e-01]\n",
            " [6.0367221e-01]\n",
            " [9.6937287e-01]\n",
            " [1.1674453e-01]\n",
            " [1.5950467e-02]\n",
            " [9.9716353e-01]\n",
            " [2.5682224e-04]\n",
            " [9.9082375e-01]\n",
            " [4.4983584e-02]\n",
            " [3.7447546e-02]\n",
            " [9.7291857e-01]\n",
            " [4.4767093e-03]\n",
            " [9.9591953e-01]\n",
            " [5.8980133e-02]\n",
            " [9.9615216e-01]\n",
            " [9.9997711e-01]\n",
            " [1.1272830e-03]\n",
            " [1.0000000e+00]\n",
            " [9.9960035e-01]\n",
            " [9.3574238e-01]\n",
            " [9.9985218e-01]\n",
            " [2.7360080e-05]\n",
            " [1.0000000e+00]\n",
            " [2.7656867e-03]\n",
            " [9.9999529e-01]\n",
            " [9.9986136e-01]\n",
            " [1.0000000e+00]\n",
            " [1.4354648e-01]\n",
            " [9.9998689e-01]\n",
            " [4.3748778e-01]\n",
            " [5.6428917e-02]\n",
            " [3.6723999e-04]\n",
            " [9.9976277e-01]\n",
            " [1.4478659e-03]\n",
            " [9.4324571e-01]\n",
            " [4.2223895e-01]\n",
            " [7.0729941e-01]\n",
            " [7.4989116e-04]\n",
            " [9.9922174e-01]\n",
            " [1.2962551e-02]\n",
            " [4.4811081e-06]\n",
            " [6.5622777e-02]\n",
            " [4.4309688e-03]\n",
            " [7.9759651e-01]\n",
            " [5.9967597e-06]\n",
            " [9.5804340e-01]\n",
            " [9.9999309e-01]\n",
            " [3.8256682e-04]\n",
            " [9.9676996e-01]\n",
            " [2.1993136e-02]\n",
            " [9.9990982e-01]\n",
            " [5.5251199e-01]\n",
            " [1.6726336e-02]\n",
            " [3.8742444e-03]\n",
            " [9.9999893e-01]\n",
            " [9.9635446e-01]\n",
            " [9.9985605e-01]\n",
            " [4.8490244e-04]\n",
            " [9.8250324e-01]\n",
            " [3.0719169e-04]\n",
            " [7.5284433e-01]\n",
            " [9.9857229e-01]\n",
            " [3.2468585e-04]\n",
            " [9.9982959e-01]\n",
            " [9.2786783e-01]\n",
            " [9.9917763e-01]\n",
            " [9.9999714e-01]\n",
            " [9.9006033e-01]\n",
            " [9.9870414e-01]\n",
            " [1.0000000e+00]\n",
            " [7.0824659e-01]\n",
            " [3.4801107e-02]\n",
            " [1.0000000e+00]\n",
            " [9.3172354e-01]\n",
            " [1.0000000e+00]\n",
            " [8.5933024e-01]\n",
            " [9.9253112e-01]\n",
            " [9.9999970e-01]\n",
            " [9.9956989e-01]\n",
            " [9.9933892e-01]\n",
            " [3.4658160e-02]\n",
            " [3.6475452e-04]\n",
            " [7.9272586e-06]\n",
            " [9.9890971e-01]\n",
            " [2.3495678e-04]\n",
            " [1.0000000e+00]\n",
            " [2.4189841e-04]\n",
            " [4.6547228e-01]\n",
            " [4.6399531e-01]\n",
            " [9.9977189e-01]\n",
            " [2.6114698e-04]\n",
            " [9.9997634e-01]\n",
            " [1.9500929e-05]\n",
            " [8.8216615e-07]\n",
            " [9.9999994e-01]\n",
            " [9.4019812e-01]\n",
            " [9.9999261e-01]\n",
            " [9.9998856e-01]\n",
            " [7.8772759e-01]\n",
            " [4.8883086e-01]\n",
            " [5.1974219e-01]\n",
            " [1.9377201e-04]\n",
            " [9.9987251e-01]\n",
            " [9.0994050e-05]\n",
            " [9.9999768e-01]\n",
            " [9.9999106e-01]\n",
            " [9.9818450e-01]\n",
            " [2.1959946e-02]\n",
            " [1.9733275e-01]\n",
            " [7.5410312e-06]\n",
            " [3.9219600e-01]\n",
            " [9.9892950e-01]\n",
            " [8.2884681e-01]\n",
            " [9.5569551e-01]\n",
            " [9.9974984e-01]\n",
            " [4.7268417e-01]\n",
            " [2.3090860e-01]\n",
            " [9.9237621e-01]\n",
            " [9.9963999e-01]\n",
            " [9.9928498e-01]\n",
            " [8.7864966e-05]\n",
            " [1.0000000e+00]\n",
            " [1.8907977e-04]\n",
            " [6.0367221e-01]\n",
            " [9.8972762e-01]\n",
            " [8.9480662e-01]\n",
            " [9.9790102e-01]\n",
            " [3.7343025e-06]\n",
            " [9.9301827e-01]\n",
            " [1.2112235e-05]\n",
            " [9.9999559e-01]\n",
            " [4.8655769e-04]\n",
            " [8.0495787e-01]\n",
            " [9.8876834e-01]\n",
            " [2.1555832e-05]\n",
            " [6.4990634e-01]\n",
            " [9.9999988e-01]\n",
            " [4.7371539e-01]\n",
            " [2.1778196e-02]\n",
            " [9.1404676e-01]\n",
            " [9.4505033e-04]\n",
            " [5.9478855e-01]\n",
            " [3.9503431e-01]\n",
            " [1.2668291e-04]\n",
            " [7.0936540e-03]\n",
            " [9.4212562e-01]\n",
            " [9.9998236e-01]\n",
            " [9.9999708e-01]\n",
            " [9.9998945e-01]\n",
            " [3.4773079e-01]\n",
            " [6.4920151e-01]\n",
            " [9.9941105e-01]\n",
            " [9.9999899e-01]\n",
            " [1.0000000e+00]\n",
            " [9.9974465e-01]\n",
            " [9.9890506e-01]\n",
            " [5.9406873e-02]\n",
            " [6.0118318e-01]]\n"
          ]
        }
      ],
      "source": [
        "#predict the test data\n",
        "predictions = model.predict(test_data)\n",
        "print(predictions)"
      ]
    },
    {
      "cell_type": "code",
      "execution_count": null,
      "metadata": {
        "id": "r7XjnjcNyMbv",
        "colab": {
          "base_uri": "https://localhost:8080/"
        },
        "outputId": "a32ba223-5b31-47f6-b418-ad1eb2a1039a"
      },
      "outputs": [
        {
          "output_type": "execute_result",
          "data": {
            "text/plain": [
              "188"
            ]
          },
          "metadata": {},
          "execution_count": 14
        }
      ],
      "source": [
        "len(predictions)"
      ]
    },
    {
      "cell_type": "code",
      "execution_count": null,
      "metadata": {
        "id": "oqqBXpuhyd6x",
        "colab": {
          "base_uri": "https://localhost:8080/"
        },
        "outputId": "3ee80680-d35c-438a-fc3a-ddb62ca59cfb"
      },
      "outputs": [
        {
          "output_type": "stream",
          "name": "stdout",
          "text": [
            "Confusion Matrix:\n",
            "[[41 56]\n",
            " [34 57]]\n",
            "Classification Report:\n",
            "              precision    recall  f1-score   support\n",
            "\n",
            "           0       0.55      0.42      0.48        97\n",
            "           1       0.50      0.63      0.56        91\n",
            "\n",
            "    accuracy                           0.52       188\n",
            "   macro avg       0.53      0.52      0.52       188\n",
            "weighted avg       0.53      0.52      0.52       188\n",
            "\n"
          ]
        }
      ],
      "source": [
        "from sklearn.metrics import confusion_matrix, classification_report\n",
        "\n",
        "# Assuming you have ground truth labels (true_labels) and predicted labels (predictions)\n",
        "true_labels = test_data.classes\n",
        "predicted_labels = (predictions > 0.5).astype(int)  # Adjust the threshold as needed\n",
        "\n",
        "# Calculate confusion matrix\n",
        "cm = confusion_matrix(true_labels, predicted_labels)\n",
        "\n",
        "# Print confusion matrix\n",
        "print(\"Confusion Matrix:\")\n",
        "print(cm)\n",
        "\n",
        "# Print classification report\n",
        "print(\"Classification Report:\")\n",
        "print(classification_report(true_labels, predicted_labels))"
      ]
    }
  ],
  "metadata": {
    "accelerator": "TPU",
    "colab": {
      "provenance": []
    },
    "kernelspec": {
      "display_name": "Python 3",
      "name": "python3"
    },
    "language_info": {
      "name": "python"
    }
  },
  "nbformat": 4,
  "nbformat_minor": 0
}